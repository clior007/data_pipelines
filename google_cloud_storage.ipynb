{
 "cells": [
  {
   "cell_type": "code",
   "execution_count": null,
   "id": "b57212bc-fe24-4818-a827-4750ee7a66d3",
   "metadata": {},
   "outputs": [],
   "source": [
    "pip install google-cloud-storage"
   ]
  },
  {
   "cell_type": "code",
   "execution_count": 8,
   "id": "0e518418-4a75-44f1-bf4a-63dbccba2eae",
   "metadata": {},
   "outputs": [],
   "source": [
    "# set the credemtials to the cloud platform\n",
    "import os\n",
    "\n",
    "# Set the GOOGLE_APPLICATION_CREDENTIALS environment variable\n",
    "os.environ['GOOGLE_APPLICATION_CREDENTIALS'] = '/home/lior/devel/git/data_pipelines/gc-data-pipelines-1cf94a5028ac.json'"
   ]
  },
  {
   "cell_type": "code",
   "execution_count": 9,
   "id": "e9bb9b53-5f03-49c1-bf93-f6e0d0d1278e",
   "metadata": {},
   "outputs": [
    {
     "name": "stdout",
     "output_type": "stream",
     "text": [
      "Environment variable: /home/lior/devel/git/data_pipelines/gc-data-pipelines-1cf94a5028ac.json\n",
      "Credentials: <google.oauth2.service_account.Credentials object at 0x7f597106a130>\n",
      "Project: gc-data-pipelines\n"
     ]
    }
   ],
   "source": [
    "# get the credemtials to the cloud platform\n",
    "import os\n",
    "from google.auth import default\n",
    "\n",
    "print(\"Environment variable:\", os.environ.get(\"GOOGLE_APPLICATION_CREDENTIALS\"))\n",
    "creds, project = default()\n",
    "print(\"Credentials:\", creds)\n",
    "print(\"Project:\", project)"
   ]
  },
  {
   "cell_type": "code",
   "execution_count": 25,
   "id": "6379fb99-b0a2-42d9-8777-4488ff52ca13",
   "metadata": {},
   "outputs": [
    {
     "name": "stdout",
     "output_type": "stream",
     "text": [
      "File 20210809144744_measurements.csv uploaded to Cloud Storage\n"
     ]
    }
   ],
   "source": [
    "# upload blobs (txt, mp4, etc) to goole bucket\n",
    "from google.cloud import storage\n",
    "\n",
    "# Set the name of your GCP project and bucket\n",
    "project_id = 'gc-data-pipelines'\n",
    "bucket_name = 'gc-blob-bucket'\n",
    "\n",
    "# Initialize a client\n",
    "client = storage.Client(project=project_id)\n",
    "\n",
    "# Reference to the bucket\n",
    "bucket = client.get_bucket(bucket_name)\n",
    "\n",
    "# Path to the local file you want to upload\n",
    "#local_file_path = '/home/lior/Desktop/dump.log'\n",
    "local_file_path = '/home/lior/Desktop/temp/20210809144744__fwd/measurements.csv'\n",
    "\n",
    "# Name for the file in Cloud Storage\n",
    "cloud_storage_file_name = '20210809144744_measurements.csv'\n",
    "\n",
    "# Upload the file\n",
    "blob = bucket.blob(cloud_storage_file_name)\n",
    "blob.upload_from_filename(local_file_path)\n",
    "\n",
    "print(f'File {cloud_storage_file_name} uploaded to Cloud Storage')\n"
   ]
  },
  {
   "cell_type": "code",
   "execution_count": 20,
   "id": "cad417e9-9b72-40a4-bdaa-132b0fd7abee",
   "metadata": {},
   "outputs": [
    {
     "name": "stdout",
     "output_type": "stream",
     "text": [
      "Video /home/lior/Desktop/SBS_rear_7832_84f0.mp4 uploaded to gc-blob-bucket/SBS_rear_7832_84f0.mp4\n"
     ]
    }
   ],
   "source": [
    "# Now an example for video upload.\n",
    "# Internal implementation of blob.upload_from_filename already has a built in mechanism for\n",
    "# identifying large file and upload it in chunks\n",
    "from google.cloud import storage\n",
    "\n",
    "# Initialize the client\n",
    "client = storage.Client()\n",
    "\n",
    "# Replace 'your_bucket_name' with the actual name of your bucket\n",
    "bucket_name = 'gc-blob-bucket'\n",
    "bucket = client.bucket(bucket_name)\n",
    "\n",
    "# Path to the local video file you want to upload\n",
    "local_video_path = '/home/lior/Desktop/SBS_rear_7832_84f0.mp4'\n",
    "\n",
    "# Blob name (object name) to be used in the bucket\n",
    "blob_name = 'SBS_rear_7832_84f0.mp4'\n",
    "\n",
    "# Upload the file with automatic resumable upload\n",
    "blob = bucket.blob(blob_name)\n",
    "blob.upload_from_filename(local_video_path, timeout=3600)\n",
    "\n",
    "print(f'Video {local_video_path} uploaded to {bucket_name}/{blob_name}')"
   ]
  }
 ],
 "metadata": {
  "kernelspec": {
   "display_name": "venv",
   "language": "python",
   "name": "venv"
  },
  "language_info": {
   "codemirror_mode": {
    "name": "ipython",
    "version": 3
   },
   "file_extension": ".py",
   "mimetype": "text/x-python",
   "name": "python",
   "nbconvert_exporter": "python",
   "pygments_lexer": "ipython3",
   "version": "3.8.10"
  }
 },
 "nbformat": 4,
 "nbformat_minor": 5
}
